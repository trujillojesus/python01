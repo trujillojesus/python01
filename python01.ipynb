{
 "cells": [
  {
   "cell_type": "code",
   "execution_count": 3,
   "metadata": {},
   "outputs": [
    {
     "name": "stdout",
     "output_type": "stream",
     "text": [
      "epale mundo\n"
     ]
    }
   ],
   "source": [
    "print(\"epale mundo\")"
   ]
  },
  {
   "cell_type": "markdown",
   "metadata": {},
   "source": [
    "### Python\n",
    "* Variables\n",
    "* Sintaxis\n",
    "    - Tipos de errores\n",
    "* Operadores matematicos básicos\n",
    "* Operadores de comparación\n",
    "* Operadores lógicos\n",
    "* Condicionales\n",
    "    -simples\n",
    "    -Anidados\n",
    "    -Encadenados\n",
    "* Ciclos\n",
    "    - finitos\n",
    "    - infinitos\n",
    "* Funciones\n",
    "* Estructuras de datos\n",
    "    - Cadenas de caracteres\n",
    "    - Enteros \n",
    "    - Flotantes\n",
    "    - Listas\n",
    "    - Diccionarios\n",
    "    - Tuplas"
   ]
  },
  {
   "cell_type": "code",
   "execution_count": 4,
   "metadata": {},
   "outputs": [],
   "source": [
    "# variables\n",
    "# minuscula\n",
    "name = \"heroe\"\n",
    "apellido = 'primero'"
   ]
  },
  {
   "cell_type": "code",
   "execution_count": 5,
   "metadata": {},
   "outputs": [
    {
     "data": {
      "text/plain": [
       "'heroe'"
      ]
     },
     "execution_count": 5,
     "metadata": {},
     "output_type": "execute_result"
    }
   ],
   "source": [
    "last_name = 'primero'\n",
    "\n",
    "#errores por mala practica\n",
    "LastName = ''\n",
    "last-name = ''\n",
    "last.name = ''\n"
   ]
  },
  {
   "cell_type": "code",
   "execution_count": 17,
   "metadata": {},
   "outputs": [
    {
     "name": "stdout",
     "output_type": "stream",
     "text": [
      "Suma: 30\n",
      "Resta: -10\n",
      "Multiplicacion: 200\n",
      "Division: 0.5\n"
     ]
    }
   ],
   "source": [
    "# OPERADORES MATEMATICOS BASICOS\n",
    "number_1 = 10\n",
    "number_2 = 20\n",
    "\n",
    "# suma\n",
    "sum_two = number_1 + number_2\n",
    "print (\"Suma:\", sum_two)\n",
    "\n",
    "# resta\n",
    "resta = number_1 - number_2\n",
    "print (\"Resta:\", resta)\n",
    "\n",
    "# multiplicacion\n",
    "multi = number_1 * number_2\n",
    "print (\"Multiplicacion:\", multi)\n",
    "\n",
    "# division\n",
    "div = number_1 / number_2\n",
    "print (\"Division:\", div)"
   ]
  },
  {
   "cell_type": "code",
   "execution_count": 26,
   "metadata": {},
   "outputs": [
    {
     "name": "stdout",
     "output_type": "stream",
     "text": [
      "Suma: 27.89\n",
      "Resta: 3.1899999999999995\n",
      "Multiplicacion: 191.91899999999998\n",
      "Division: 1.2582995951417004\n"
     ]
    }
   ],
   "source": [
    "# OPERADORES MATEMATICOS BASICOS\n",
    "number_1 = input( \"Ingrese el primer numero: \" )\n",
    "number_1 = float (number_1)\n",
    "number_2 = input( \"Ingrese el segundo numero: \" )\n",
    "number_2 = float (number_2)\n",
    "\n",
    "# suma\n",
    "sum_two = number_1 + number_2\n",
    "print (\"Suma:\", sum_two)\n",
    "\n",
    "# resta\n",
    "resta = number_1 - number_2\n",
    "print (\"Resta:\", resta)\n",
    "\n",
    "# multiplicacion\n",
    "multi = number_1 * number_2\n",
    "print (\"Multiplicacion:\", multi)\n",
    "\n",
    "# division\n",
    "div = number_1 / number_2\n",
    "print (\"Division:\", div)\n",
    "\n"
   ]
  },
  {
   "cell_type": "code",
   "execution_count": 22,
   "metadata": {},
   "outputs": [
    {
     "data": {
      "text/plain": [
       "'1122'"
      ]
     },
     "execution_count": 22,
     "metadata": {},
     "output_type": "execute_result"
    }
   ],
   "source": [
    "\"11\" + \"22\""
   ]
  },
  {
   "cell_type": "code",
   "execution_count": 23,
   "metadata": {},
   "outputs": [
    {
     "data": {
      "text/plain": [
       "'aabb'"
      ]
     },
     "execution_count": 23,
     "metadata": {},
     "output_type": "execute_result"
    }
   ],
   "source": [
    "\"aa\" + \"bb\""
   ]
  },
  {
   "cell_type": "code",
   "execution_count": 20,
   "metadata": {},
   "outputs": [
    {
     "data": {
      "text/plain": [
       "str"
      ]
     },
     "execution_count": 20,
     "metadata": {},
     "output_type": "execute_result"
    }
   ],
   "source": [
    "type (number_1)"
   ]
  },
  {
   "cell_type": "code",
   "execution_count": 37,
   "metadata": {},
   "outputs": [
    {
     "name": "stdout",
     "output_type": "stream",
     "text": [
      "Número 2 es menor\n"
     ]
    }
   ],
   "source": [
    "# condicional\n",
    "# operadores de comparación\n",
    "# mayor >\n",
    "# menor <\n",
    "# mayor igual >= \n",
    "# menor igual <=\n",
    "# igual? ==\n",
    "# diferente !=\n",
    "\n",
    "number_1 = int (input (\"Número 1: \"))\n",
    "number_2 = int (input(\"Número 2: \"))\n",
    "\n",
    "\n",
    "if number_1 > number_2:\n",
    "    print(\"Número 1 es mayor\")\n",
    "else:\n",
    "    print (\"Número 2 es menor\")\n",
    "\n"
   ]
  },
  {
   "cell_type": "code",
   "execution_count": 29,
   "metadata": {},
   "outputs": [
    {
     "data": {
      "text/plain": [
       "False"
      ]
     },
     "execution_count": 29,
     "metadata": {},
     "output_type": "execute_result"
    }
   ],
   "source": [
    "2 > 2"
   ]
  },
  {
   "cell_type": "code",
   "execution_count": null,
   "metadata": {},
   "outputs": [],
   "source": []
  },
  {
   "cell_type": "code",
   "execution_count": 27,
   "metadata": {},
   "outputs": [
    {
     "name": "stdout",
     "output_type": "stream",
     "text": [
      "Suma: 5501.75\n",
      "Resta: -5411.33\n",
      "Multiplicacion: 246690.1734\n",
      "Division: 0.008285470279701055\n"
     ]
    }
   ],
   "source": [
    "# OPERADORES MATEMATICOS BASICOS\n",
    "number_1 = float (input( \"Ingrese el primer numero: \" ))\n",
    "\n",
    "number_2 = float (input( \"Ingrese el segundo numero: \" ))\n",
    "\n",
    "operation = input(\"Seleccione su operación: suma, resta, multi, div\")\n",
    "\n",
    "\n",
    "# suma\n",
    "sum_two = number_1 + number_2\n",
    "print (\"Suma:\", sum_two)\n",
    "\n",
    "# resta\n",
    "resta = number_1 - number_2\n",
    "print (\"Resta:\", resta)\n",
    "\n",
    "# multiplicacion\n",
    "multi = number_1 * number_2\n",
    "print (\"Multiplicacion:\", multi)\n",
    "\n",
    "# division\n",
    "div = number_1 / number_2\n",
    "print (\"Division:\", div)\n"
   ]
  },
  {
   "cell_type": "code",
   "execution_count": 4,
   "metadata": {},
   "outputs": [
    {
     "name": "stdout",
     "output_type": "stream",
     "text": [
      "Condicion invalida\n",
      "Número 2 es menor\n"
     ]
    }
   ],
   "source": [
    "# OPERADORES MATEMATICOS BASICOS\n",
    "# Condicionales encadenados\n",
    "\n",
    "number_1 = float (input( \"Ingrese el primer numero: \" ))\n",
    "\n",
    "number_2 = float (input( \"Ingrese el segundo numero: \" ))\n",
    "\n",
    "operation = input(\"Seleccione su operación: suma, resta, multi, div\")\n",
    "\n",
    "\n",
    "if operation == \"suma\":\n",
    "    # suma\n",
    "    sum_two = number_1 + number_2\n",
    "    print (\"Suma:\", sum_two)\n",
    "\n",
    "elif operation == \"resta\":\n",
    "    # resta\n",
    "    # resta = number_1 - number_2\n",
    "    print (\"Resta:\", resta)\n",
    "\n",
    "elif operation == \"multi\":\n",
    "    # multiplicacion\n",
    "    multi = number_1 * number_2\n",
    "    print (\"Multiplicacion:\", multi)\n",
    "\n",
    "elif operation == \"division\":\n",
    "    # division\n",
    "    div = number_1 / number_2\n",
    "    print (\"Division:\", div)\n",
    "else:\n",
    "    print(\"Condicion invalida\")\n",
    "\n",
    "\n",
    "if number_1 > number_2:\n",
    "    print(\"Número 1 es mayor\")\n",
    "else:\n",
    "    print (\"Número 2 es menor\")\n",
    "\n"
   ]
  },
  {
   "cell_type": "code",
   "execution_count": 6,
   "metadata": {},
   "outputs": [],
   "source": [
    "# Ciclos finitos\n",
    "# listas\n",
    "\"cadenas\"\n",
    "#20\n",
    "#12.33\n",
    "\n",
    "\n",
    "names = [ \n",
    "    \"jose\",\n",
    "    \"maria\",\n",
    "     \"juan\"\n",
    "     ]\n",
    "\n",
    "# indice 0, 1, 2 ....\n",
    "numbers = [10, 20, 30.5, ]\n",
    "\n"
   ]
  },
  {
   "cell_type": "code",
   "execution_count": 9,
   "metadata": {},
   "outputs": [
    {
     "name": "stdout",
     "output_type": "stream",
     "text": [
      "['jose', 'maria', 'juan']\n"
     ]
    }
   ],
   "source": [
    "print(names)"
   ]
  },
  {
   "cell_type": "code",
   "execution_count": 13,
   "metadata": {},
   "outputs": [
    {
     "data": {
      "text/plain": [
       "30.5"
      ]
     },
     "execution_count": 13,
     "metadata": {},
     "output_type": "execute_result"
    }
   ],
   "source": [
    "names[2]\n",
    "numbers[2]"
   ]
  },
  {
   "cell_type": "code",
   "execution_count": 15,
   "metadata": {},
   "outputs": [
    {
     "data": {
      "text/plain": [
       "30.5"
      ]
     },
     "execution_count": 15,
     "metadata": {},
     "output_type": "execute_result"
    }
   ],
   "source": [
    "# Imprime el ultimo numero que es -1\n",
    "numbers[-1]"
   ]
  },
  {
   "cell_type": "code",
   "execution_count": 16,
   "metadata": {},
   "outputs": [
    {
     "data": {
      "text/plain": [
       "10"
      ]
     },
     "execution_count": 16,
     "metadata": {},
     "output_type": "execute_result"
    }
   ],
   "source": [
    "numbers[-3]"
   ]
  },
  {
   "cell_type": "code",
   "execution_count": 18,
   "metadata": {},
   "outputs": [],
   "source": [
    "# agregar un elemento en la lista de nombres\n",
    "names.append(\"josefino\")\n"
   ]
  },
  {
   "cell_type": "code",
   "execution_count": 19,
   "metadata": {},
   "outputs": [
    {
     "data": {
      "text/plain": [
       "['jose', 'maria', 'juan', 'josefino']"
      ]
     },
     "execution_count": 19,
     "metadata": {},
     "output_type": "execute_result"
    }
   ],
   "source": [
    "names"
   ]
  },
  {
   "cell_type": "code",
   "execution_count": 21,
   "metadata": {},
   "outputs": [
    {
     "data": {
      "text/plain": [
       "'jose'"
      ]
     },
     "execution_count": 21,
     "metadata": {},
     "output_type": "execute_result"
    }
   ],
   "source": [
    "# remover un elemento\n",
    "names.pop(0)"
   ]
  },
  {
   "cell_type": "code",
   "execution_count": 23,
   "metadata": {},
   "outputs": [
    {
     "data": {
      "text/plain": [
       "['maria', 'juan', 'josefino']"
      ]
     },
     "execution_count": 23,
     "metadata": {},
     "output_type": "execute_result"
    }
   ],
   "source": [
    "names"
   ]
  },
  {
   "cell_type": "code",
   "execution_count": 24,
   "metadata": {},
   "outputs": [
    {
     "data": {
      "text/plain": [
       "'juan'"
      ]
     },
     "execution_count": 24,
     "metadata": {},
     "output_type": "execute_result"
    }
   ],
   "source": [
    "names.pop(1)"
   ]
  },
  {
   "cell_type": "code",
   "execution_count": 25,
   "metadata": {},
   "outputs": [
    {
     "data": {
      "text/plain": [
       "['maria', 'josefino']"
      ]
     },
     "execution_count": 25,
     "metadata": {},
     "output_type": "execute_result"
    }
   ],
   "source": [
    "names"
   ]
  },
  {
   "cell_type": "code",
   "execution_count": 26,
   "metadata": {},
   "outputs": [],
   "source": [
    "# incorporo nombres en mi lista\n",
    "names.append(\"ruperto\")"
   ]
  },
  {
   "cell_type": "code",
   "execution_count": 27,
   "metadata": {},
   "outputs": [
    {
     "data": {
      "text/plain": [
       "['maria', 'josefino', 'ruperto']"
      ]
     },
     "execution_count": 27,
     "metadata": {},
     "output_type": "execute_result"
    }
   ],
   "source": [
    "names"
   ]
  },
  {
   "cell_type": "code",
   "execution_count": 28,
   "metadata": {},
   "outputs": [
    {
     "data": {
      "text/plain": [
       "'ruperto'"
      ]
     },
     "execution_count": 28,
     "metadata": {},
     "output_type": "execute_result"
    }
   ],
   "source": [
    "names.pop(-1)"
   ]
  },
  {
   "cell_type": "code",
   "execution_count": 30,
   "metadata": {},
   "outputs": [],
   "source": [
    "names = ['maria', 'josefino', \"roberto\", \"jesus\", \"juan\"]"
   ]
  },
  {
   "cell_type": "code",
   "execution_count": 32,
   "metadata": {},
   "outputs": [
    {
     "name": "stdout",
     "output_type": "stream",
     "text": [
      "maria\n",
      "josefino\n",
      "roberto\n",
      "jesus\n",
      "juan\n"
     ]
    }
   ],
   "source": [
    "# ciclos finitos: for\n",
    "\n",
    "for n in names:\n",
    "    print(n)"
   ]
  },
  {
   "cell_type": "code",
   "execution_count": 33,
   "metadata": {},
   "outputs": [
    {
     "data": {
      "text/plain": [
       "5"
      ]
     },
     "execution_count": 33,
     "metadata": {},
     "output_type": "execute_result"
    }
   ],
   "source": [
    "len(names)"
   ]
  },
  {
   "cell_type": "code",
   "execution_count": 42,
   "metadata": {},
   "outputs": [
    {
     "name": "stdout",
     "output_type": "stream",
     "text": [
      "3\n",
      "4\n",
      "5\n",
      "6\n"
     ]
    }
   ],
   "source": [
    "for n in range (3,7):\n",
    "    print (n)"
   ]
  },
  {
   "cell_type": "code",
   "execution_count": 44,
   "metadata": {},
   "outputs": [
    {
     "name": "stdout",
     "output_type": "stream",
     "text": [
      "0\n",
      "1\n",
      "2\n",
      "3\n",
      "4\n"
     ]
    }
   ],
   "source": [
    "for name in range( len(names)):\n",
    "    print(name)"
   ]
  },
  {
   "cell_type": "code",
   "execution_count": 45,
   "metadata": {},
   "outputs": [
    {
     "data": {
      "text/plain": [
       "['maria', 'josefino', 'roberto', 'jesus', 'juan']"
      ]
     },
     "execution_count": 45,
     "metadata": {},
     "output_type": "execute_result"
    }
   ],
   "source": [
    "names"
   ]
  },
  {
   "cell_type": "code",
   "execution_count": 47,
   "metadata": {},
   "outputs": [
    {
     "name": "stdout",
     "output_type": "stream",
     "text": [
      "maria\n",
      "josefino\n",
      "roberto\n",
      "jesus\n",
      "juan\n"
     ]
    }
   ],
   "source": [
    "for name in range( len(names)):\n",
    "    print(names[name])"
   ]
  },
  {
   "cell_type": "code",
   "execution_count": 50,
   "metadata": {},
   "outputs": [
    {
     "ename": "IndentationError",
     "evalue": "expected an indented block after 'if' statement on line 2 (2504716881.py, line 3)",
     "output_type": "error",
     "traceback": [
      "\u001b[1;36m  Cell \u001b[1;32mIn[50], line 3\u001b[1;36m\u001b[0m\n\u001b[1;33m    print(\"encontre a Juan en la posicion\", name)\u001b[0m\n\u001b[1;37m    ^\u001b[0m\n\u001b[1;31mIndentationError\u001b[0m\u001b[1;31m:\u001b[0m expected an indented block after 'if' statement on line 2\n"
     ]
    }
   ],
   "source": [
    "for name in range( len(names)):\n",
    "    if names[name] == \"juan\":\n",
    "    print(\"encontre a Juan en la posicion\", name)"
   ]
  }
 ],
 "metadata": {
  "kernelspec": {
   "display_name": "Python 3",
   "language": "python",
   "name": "python3"
  },
  "language_info": {
   "codemirror_mode": {
    "name": "ipython",
    "version": 3
   },
   "file_extension": ".py",
   "mimetype": "text/x-python",
   "name": "python",
   "nbconvert_exporter": "python",
   "pygments_lexer": "ipython3",
   "version": "3.12.5"
  }
 },
 "nbformat": 4,
 "nbformat_minor": 2
}
