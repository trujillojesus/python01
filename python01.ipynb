{
 "cells": [
  {
   "cell_type": "code",
   "execution_count": 3,
   "metadata": {},
   "outputs": [
    {
     "name": "stdout",
     "output_type": "stream",
     "text": [
      "epale mundo\n"
     ]
    }
   ],
   "source": [
    "print(\"epale mundo\")"
   ]
  },
  {
   "cell_type": "markdown",
   "metadata": {},
   "source": [
    "### Python\n",
    "* Variables\n",
    "* Sintaxis\n",
    "    - Tipos de errores\n",
    "* Operadores matematicos básicos\n",
    "* Operadores de comparación\n",
    "* Operadores lógicos\n",
    "* Condicionales\n",
    "    -simples\n",
    "    -Anidados\n",
    "    -Encadenados\n",
    "* Ciclos\n",
    "    - finitos\n",
    "    - infinitos\n",
    "* Funciones\n",
    "* Estructuras de datos\n",
    "    - Cadenas de caracteres\n",
    "    - Enteros \n",
    "    - Flotantes\n",
    "    - Listas\n",
    "    - Diccionarios\n",
    "    - Tuplas"
   ]
  },
  {
   "cell_type": "code",
   "execution_count": 4,
   "metadata": {},
   "outputs": [],
   "source": [
    "# variables\n",
    "# minuscula\n",
    "name = \"heroe\"\n",
    "apellido = 'primero'"
   ]
  },
  {
   "cell_type": "code",
   "execution_count": 5,
   "metadata": {},
   "outputs": [
    {
     "data": {
      "text/plain": [
       "'heroe'"
      ]
     },
     "execution_count": 5,
     "metadata": {},
     "output_type": "execute_result"
    }
   ],
   "source": [
    "last_name = 'primero'\n",
    "\n",
    "#errores por mala practica\n",
    "LastName = ''\n",
    "last-name = ''\n",
    "last.name = ''\n"
   ]
  },
  {
   "cell_type": "code",
   "execution_count": 17,
   "metadata": {},
   "outputs": [
    {
     "name": "stdout",
     "output_type": "stream",
     "text": [
      "Suma: 30\n",
      "Resta: -10\n",
      "Multiplicacion: 200\n",
      "Division: 0.5\n"
     ]
    }
   ],
   "source": [
    "# OPERADORES MATEMATICOS BASICOS\n",
    "number_1 = 10\n",
    "number_2 = 20\n",
    "\n",
    "# suma\n",
    "sum_two = number_1 + number_2\n",
    "print (\"Suma:\", sum_two)\n",
    "\n",
    "# resta\n",
    "resta = number_1 - number_2\n",
    "print (\"Resta:\", resta)\n",
    "\n",
    "# multiplicacion\n",
    "multi = number_1 * number_2\n",
    "print (\"Multiplicacion:\", multi)\n",
    "\n",
    "# division\n",
    "div = number_1 / number_2\n",
    "print (\"Division:\", div)"
   ]
  },
  {
   "cell_type": "code",
   "execution_count": 26,
   "metadata": {},
   "outputs": [
    {
     "name": "stdout",
     "output_type": "stream",
     "text": [
      "Suma: 27.89\n",
      "Resta: 3.1899999999999995\n",
      "Multiplicacion: 191.91899999999998\n",
      "Division: 1.2582995951417004\n"
     ]
    }
   ],
   "source": [
    "# OPERADORES MATEMATICOS BASICOS\n",
    "number_1 = input( \"Ingrese el primer numero: \" )\n",
    "number_1 = float (number_1)\n",
    "number_2 = input( \"Ingrese el segundo numero: \" )\n",
    "number_2 = float (number_2)\n",
    "\n",
    "# suma\n",
    "sum_two = number_1 + number_2\n",
    "print (\"Suma:\", sum_two)\n",
    "\n",
    "# resta\n",
    "resta = number_1 - number_2\n",
    "print (\"Resta:\", resta)\n",
    "\n",
    "# multiplicacion\n",
    "multi = number_1 * number_2\n",
    "print (\"Multiplicacion:\", multi)\n",
    "\n",
    "# division\n",
    "div = number_1 / number_2\n",
    "print (\"Division:\", div)\n",
    "\n"
   ]
  },
  {
   "cell_type": "code",
   "execution_count": 22,
   "metadata": {},
   "outputs": [
    {
     "data": {
      "text/plain": [
       "'1122'"
      ]
     },
     "execution_count": 22,
     "metadata": {},
     "output_type": "execute_result"
    }
   ],
   "source": [
    "\"11\" + \"22\""
   ]
  },
  {
   "cell_type": "code",
   "execution_count": 23,
   "metadata": {},
   "outputs": [
    {
     "data": {
      "text/plain": [
       "'aabb'"
      ]
     },
     "execution_count": 23,
     "metadata": {},
     "output_type": "execute_result"
    }
   ],
   "source": [
    "\"aa\" + \"bb\""
   ]
  },
  {
   "cell_type": "code",
   "execution_count": 20,
   "metadata": {},
   "outputs": [
    {
     "data": {
      "text/plain": [
       "str"
      ]
     },
     "execution_count": 20,
     "metadata": {},
     "output_type": "execute_result"
    }
   ],
   "source": [
    "type (number_1)"
   ]
  },
  {
   "cell_type": "code",
   "execution_count": 37,
   "metadata": {},
   "outputs": [
    {
     "name": "stdout",
     "output_type": "stream",
     "text": [
      "Número 2 es menor\n"
     ]
    }
   ],
   "source": [
    "# condicional\n",
    "# operadores de comparación\n",
    "# mayor >\n",
    "# menor <\n",
    "# mayor igual >= \n",
    "# menor igual <=\n",
    "# igual? ==\n",
    "# diferente !=\n",
    "\n",
    "number_1 = int (input (\"Número 1: \"))\n",
    "number_2 = int (input(\"Número 2: \"))\n",
    "\n",
    "\n",
    "if number_1 > number_2:\n",
    "    print(\"Número 1 es mayor\")\n",
    "else:\n",
    "    print (\"Número 2 es menor\")\n",
    "\n"
   ]
  },
  {
   "cell_type": "code",
   "execution_count": 29,
   "metadata": {},
   "outputs": [
    {
     "data": {
      "text/plain": [
       "False"
      ]
     },
     "execution_count": 29,
     "metadata": {},
     "output_type": "execute_result"
    }
   ],
   "source": [
    "2 > 2"
   ]
  },
  {
   "cell_type": "code",
   "execution_count": null,
   "metadata": {},
   "outputs": [],
   "source": []
  },
  {
   "cell_type": "code",
   "execution_count": 27,
   "metadata": {},
   "outputs": [
    {
     "name": "stdout",
     "output_type": "stream",
     "text": [
      "Suma: 5501.75\n",
      "Resta: -5411.33\n",
      "Multiplicacion: 246690.1734\n",
      "Division: 0.008285470279701055\n"
     ]
    }
   ],
   "source": [
    "# OPERADORES MATEMATICOS BASICOS\n",
    "number_1 = float (input( \"Ingrese el primer numero: \" ))\n",
    "\n",
    "number_2 = float (input( \"Ingrese el segundo numero: \" ))\n",
    "\n",
    "operation = input(\"Seleccione su operación: suma, resta, multi, div\")\n",
    "\n",
    "\n",
    "# suma\n",
    "sum_two = number_1 + number_2\n",
    "print (\"Suma:\", sum_two)\n",
    "\n",
    "# resta\n",
    "resta = number_1 - number_2\n",
    "print (\"Resta:\", resta)\n",
    "\n",
    "# multiplicacion\n",
    "multi = number_1 * number_2\n",
    "print (\"Multiplicacion:\", multi)\n",
    "\n",
    "# division\n",
    "div = number_1 / number_2\n",
    "print (\"Division:\", div)\n"
   ]
  }
 ],
 "metadata": {
  "kernelspec": {
   "display_name": "Python 3",
   "language": "python",
   "name": "python3"
  },
  "language_info": {
   "codemirror_mode": {
    "name": "ipython",
    "version": 3
   },
   "file_extension": ".py",
   "mimetype": "text/x-python",
   "name": "python",
   "nbconvert_exporter": "python",
   "pygments_lexer": "ipython3",
   "version": "3.12.5"
  }
 },
 "nbformat": 4,
 "nbformat_minor": 2
}
